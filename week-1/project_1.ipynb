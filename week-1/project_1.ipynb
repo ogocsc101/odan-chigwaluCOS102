{
 "cells": [
  {
   "cell_type": "code",
   "execution_count": 5,
   "id": "8a1370d7-84b7-4099-b178-0b40d7b7d881",
   "metadata": {},
   "outputs": [
    {
     "name": "stdout",
     "output_type": "stream",
     "text": [
      "Choose a calculator:\n",
      "1. Simple Interest\n",
      "2. Compund Interest\n",
      "3. Annuity Plan\n"
     ]
    },
    {
     "name": "stdin",
     "output_type": "stream",
     "text": [
      "Enter your choice (1/2/3):  1\n",
      "Enter Principal:  300\n",
      "Enter Rate:  4\n",
      "Enter Time (in years):  2\n"
     ]
    },
    {
     "name": "stdout",
     "output_type": "stream",
     "text": [
      "Simple Interest: 24.00\n"
     ]
    }
   ],
   "source": [
    "# Function to calculate Simple Interest \n",
    "def simple_interest(P, R, T):\n",
    "    SI = (P*R*T)/100\n",
    "    return SI \n",
    "# Function to calculate Compound Interest\n",
    "def compund_interest(P, R,T):\n",
    "    A = P * (1 + R / 100) **T\n",
    "    return CI\n",
    "# Function to calculate Future Value of an Annuity Plan\n",
    "def annuity_plan(P, R, T):\n",
    "    FV = P * ((1 + R) ** T -1) / R \n",
    "    return FV\n",
    "\n",
    "# Main program \n",
    "print(\"Choose a calculator:\")\n",
    "print(\"1. Simple Interest\")\n",
    "print(\"2. Compund Interest\")\n",
    "print(\"3. Annuity Plan\")\n",
    "\n",
    "choice = int(input(\"Enter your choice (1/2/3): \"))\n",
    "\n",
    "if choice == 1:\n",
    "    P = float(input(\"Enter Principal: \"))\n",
    "    R = float(input(\"Enter Rate: \"))\n",
    "    T = float(input(\"Enter Time (in years): \"))\n",
    "    print(f\"Simple Interest: {simple_interest(P, R, T):.2f}\")\n",
    "\n",
    "elif choice == 2:\n",
    "    P = float(input(\"Enter Principal: \"))\n",
    "    R = float(input(\"Enter Rate: \"))\n",
    "    T = float(input(\"Enter Time (in years): \"))\n",
    "    print(f\"Compund Interest: {compund_interest(P, R, T):.2f}\")\n",
    "\n",
    "elif choice == 3:\n",
    "    P = float(input(\"Enter Principal per period: \"))\n",
    "    R = float(input(\"Enter Rate per period: \"))\n",
    "    T = float(input(\"Enter number of periods: \"))\n",
    "    print(f\"Future Value of Annuity: {annuity_plan(P, R, T):.2f}\")\n",
    "\n",
    "else:\n",
    "    print(\"Invalid choice! Please select 1, 2, or 3.\")\n",
    "\n"
   ]
  },
  {
   "cell_type": "code",
   "execution_count": null,
   "id": "16e4e727-c9ab-4e35-a3fb-b9853f94c314",
   "metadata": {},
   "outputs": [],
   "source": []
  }
 ],
 "metadata": {
  "kernelspec": {
   "display_name": "Python [conda env:base] *",
   "language": "python",
   "name": "conda-base-py"
  },
  "language_info": {
   "codemirror_mode": {
    "name": "ipython",
    "version": 3
   },
   "file_extension": ".py",
   "mimetype": "text/x-python",
   "name": "python",
   "nbconvert_exporter": "python",
   "pygments_lexer": "ipython3",
   "version": "3.12.7"
  }
 },
 "nbformat": 4,
 "nbformat_minor": 5
}
