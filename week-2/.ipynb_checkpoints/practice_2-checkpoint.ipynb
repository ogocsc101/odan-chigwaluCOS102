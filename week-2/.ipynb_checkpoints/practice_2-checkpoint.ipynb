{
 "cells": [
  {
   "cell_type": "code",
   "execution_count": 1,
   "id": "d3f13e0d-5126-4a76-b64b-15a06cfb449f",
   "metadata": {},
   "outputs": [
    {
     "name": "stdin",
     "output_type": "stream",
     "text": [
      "Enter mass in kilograms:  78\n"
     ]
    },
    {
     "name": "stdout",
     "output_type": "stream",
     "text": [
      "The energy equivalent to 78.0 kg of mass is 7.010290394147177e+18 joules.\n"
     ]
    }
   ],
   "source": [
    "# Inut from user\n",
    "m = float(input(\"Enter mass in kilograms: \"))\n",
    "\n",
    "# constant value for the speed of lght in m/s\n",
    "c = 299792458\n",
    "\n",
    "# calculating energy using Einstein's equation\n",
    "energy = m * c **2\n",
    "\n",
    "# Displaying the result\n",
    "print(f\"The energy equivalent to {m} kg of mass is {energy} joules.\")"
   ]
  },
  {
   "cell_type": "code",
   "execution_count": null,
   "id": "a024a864-4c61-4588-bfbe-a319543075b5",
   "metadata": {},
   "outputs": [],
   "source": []
  }
 ],
 "metadata": {
  "kernelspec": {
   "display_name": "Python [conda env:base] *",
   "language": "python",
   "name": "conda-base-py"
  },
  "language_info": {
   "codemirror_mode": {
    "name": "ipython",
    "version": 3
   },
   "file_extension": ".py",
   "mimetype": "text/x-python",
   "name": "python",
   "nbconvert_exporter": "python",
   "pygments_lexer": "ipython3",
   "version": "3.12.7"
  }
 },
 "nbformat": 4,
 "nbformat_minor": 5
}
