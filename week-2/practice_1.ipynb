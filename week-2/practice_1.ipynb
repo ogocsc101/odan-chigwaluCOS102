{
 "cells": [
  {
   "cell_type": "code",
   "execution_count": 3,
   "id": "1560e29c-f440-4bc5-96a5-52220fba3c6c",
   "metadata": {},
   "outputs": [
    {
     "name": "stdin",
     "output_type": "stream",
     "text": [
      "Enter your state of origin: Anambra\n"
     ]
    },
    {
     "name": "stdout",
     "output_type": "stream",
     "text": [
      "Your state of origin is:  Anambra\n",
      "The first character is:  A\n",
      "The characters starting from 3rd to 5th are:  amb\n",
      "The string starting from the 3rd character is:  ambra\n",
      "State of origin two times AnambraAnambra\n"
     ]
    }
   ],
   "source": [
    "str = input(\"Enter your state of origin:\")\n",
    "\n",
    "print (\"Your state of origin is: \", str)\n",
    "print (\"The first character is: \", str[0])\n",
    "print (\"The characters starting from 3rd to 5th are: \", str[2:5])\n",
    "print (\"The string starting from the 3rd character is: \", str[2:])\n",
    "print (\"State of origin two times\", str * 2)\n"
   ]
  },
  {
   "cell_type": "code",
   "execution_count": null,
   "id": "df8afe52-c4b0-49e3-9849-2f56725baf81",
   "metadata": {},
   "outputs": [],
   "source": []
  }
 ],
 "metadata": {
  "kernelspec": {
   "display_name": "Python [conda env:base] *",
   "language": "python",
   "name": "conda-base-py"
  },
  "language_info": {
   "codemirror_mode": {
    "name": "ipython",
    "version": 3
   },
   "file_extension": ".py",
   "mimetype": "text/x-python",
   "name": "python",
   "nbconvert_exporter": "python",
   "pygments_lexer": "ipython3",
   "version": "3.12.7"
  }
 },
 "nbformat": 4,
 "nbformat_minor": 5
}
