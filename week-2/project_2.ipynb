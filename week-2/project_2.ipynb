{
 "cells": [
  {
   "cell_type": "code",
   "execution_count": 3,
   "id": "3795e161-93fb-4906-ab28-f9c44bd478fc",
   "metadata": {},
   "outputs": [
    {
     "name": "stdout",
     "output_type": "stream",
     "text": [
      "Select the type of equation to solve:\n",
      "1. Quadratic Equation (Ax² + Bx + C = 0)\n",
      "2. Cubic Equation (Ax³ + Bx² + Cx + D = 0)\n",
      "3. Quartic Equation (Ax⁴ + Bx³ + Cx² + Dx + E = 0)\n"
     ]
    },
    {
     "name": "stdin",
     "output_type": "stream",
     "text": [
      "Enter your choice (1/2/3):  1\n"
     ]
    },
    {
     "name": "stdout",
     "output_type": "stream",
     "text": [
      "\n",
      "Solving Quadratic Equation: Ax² + Bx + C = 0\n"
     ]
    },
    {
     "name": "stdin",
     "output_type": "stream",
     "text": [
      "Enter coefficient A:  2\n",
      "Enter coefficient B:  4\n",
      "Enter coefficient C:  1\n"
     ]
    },
    {
     "name": "stdout",
     "output_type": "stream",
     "text": [
      "Roots are real and different: -0.2928932188134524, -1.7071067811865475\n"
     ]
    }
   ],
   "source": [
    "# Your mathematical calculator\n",
    "\n",
    "import math\n",
    "\n",
    "# Function to solve a quadratic equation (Ax² + Bx + C = 0)\n",
    "def solve_quadratic():\n",
    "    print(\"\\nSolving Quadratic Equation: Ax² + Bx + C = 0\")\n",
    "    a = float(input(\"Enter coefficient A: \"))\n",
    "    b = float(input(\"Enter coefficient B: \"))\n",
    "    c = float(input(\"Enter coefficient C: \"))\n",
    "\n",
    "    # Calculate the discriminant\n",
    "    d = (b**2) - (4*a*c)\n",
    "\n",
    "    if d > 0:\n",
    "        root1 = (-b + math.sqrt(d)) / (2*a)\n",
    "        root2 = (-b - math.sqrt(d)) / (2*a)\n",
    "        print(f\"Roots are real and different: {root1}, {root2}\")\n",
    "    elif d == 0:\n",
    "        root = -b / (2*a)\n",
    "        print(f\"Roots are real and same: {root}\")\n",
    "\n",
    "# Function to solve a cubic equation\n",
    "def solve_cubic():\n",
    "    print(\"\\nSolving Cubic Equation: Ax³ + Bx² + Cx + D = 0\")\n",
    "    a = float(input(\"Enter coefficient A: \"))\n",
    "    b = float(input(\"Enter coefficient B: \"))\n",
    "    c = float(input(\"Enter coefficient C: \"))\n",
    "    d = float(input(\"Enter coefficient D: \"))   \n",
    "\n",
    "# Checking integer roots using trial division\n",
    "    found_root = None\n",
    "    for i in range(-100, 101):  # Check integer roots from -100 to 100\n",
    "        if i != 0 and (a*i**3 + b*i**2 + c*i + d == 0):\n",
    "            found_root = i\n",
    "            break\n",
    "\n",
    "    if found_root is not None:\n",
    "        print(f\"One integer root found: x = {found_root}\")\n",
    "        print(\"Finding the remaining roots requires advanced methods.\")\n",
    "    else:\n",
    "        print(\"No simple integer roots found. Try using an advanced calculator.\")\n",
    "\n",
    "# Function to find integer roots of a quartic equation using trial method\n",
    "def solve_quartic():\n",
    "    print(\"\\nSolving Quartic Equation: Ax⁴ + Bx³ + Cx² + Dx + E = 0\")\n",
    "    a = float(input(\"Enter coefficient A: \"))\n",
    "    b = float(input(\"Enter coefficient B: \"))\n",
    "    c = float(input(\"Enter coefficient C: \"))\n",
    "    d = float(input(\"Enter coefficient D: \"))\n",
    "    e = float(input(\"Enter coefficient E: \"))\n",
    "\n",
    " # Checking integer roots using trial division\n",
    "    found_root = None\n",
    "    for i in range(-100, 101):  # Check integer roots from -100 to 100\n",
    "        if i != 0 and (a*i**4 + b*i**3 + c*i**2 + d*i + e == 0):\n",
    "            found_root = i\n",
    "            break\n",
    "\n",
    "    if found_root is not None:\n",
    "        print(f\"One integer root found: x = {found_root}\")\n",
    "        print(\"Finding the remaining roots requires advanced methods.\")\n",
    "    else:\n",
    "        print(\"No simple integer roots found. Try using an advanced solver.\")\n",
    "\n",
    "# Main program\n",
    "print(\"Select the type of equation to solve:\")\n",
    "print(\"1. Quadratic Equation (Ax² + Bx + C = 0)\")\n",
    "print(\"2. Cubic Equation (Ax³ + Bx² + Cx + D = 0)\")\n",
    "print(\"3. Quartic Equation (Ax⁴ + Bx³ + Cx² + Dx + E = 0)\")\n",
    "\n",
    "choice = input(\"Enter your choice (1/2/3): \")\n",
    "\n",
    "if choice == \"1\":\n",
    "    solve_quadratic()\n",
    "elif choice == \"2\":\n",
    "    solve_cubic()\n",
    "elif choice == \"3\":\n",
    "    solve_quartic()\n",
    "else:\n",
    "    print(\"Invalid choice! Please enter 1, 2, or 3.\")\n"
   ]
  },
  {
   "cell_type": "code",
   "execution_count": null,
   "id": "4f007f4d-689c-4be2-9125-558427c16fbc",
   "metadata": {},
   "outputs": [],
   "source": []
  }
 ],
 "metadata": {
  "kernelspec": {
   "display_name": "Python [conda env:base] *",
   "language": "python",
   "name": "conda-base-py"
  },
  "language_info": {
   "codemirror_mode": {
    "name": "ipython",
    "version": 3
   },
   "file_extension": ".py",
   "mimetype": "text/x-python",
   "name": "python",
   "nbconvert_exporter": "python",
   "pygments_lexer": "ipython3",
   "version": "3.12.7"
  }
 },
 "nbformat": 4,
 "nbformat_minor": 5
}
