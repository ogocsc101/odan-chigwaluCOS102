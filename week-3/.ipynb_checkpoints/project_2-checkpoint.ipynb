{
 "cells": [
  {
   "cell_type": "code",
   "execution_count": 1,
   "id": "0f499cd4-2262-497d-a571-ad3f49ea1b59",
   "metadata": {},
   "outputs": [
    {
     "name": "stdin",
     "output_type": "stream",
     "text": [
      "Enter years of experince:  16\n",
      "Enter age:  45\n"
     ]
    },
    {
     "name": "stdout",
     "output_type": "stream",
     "text": [
      "Anual Tax Revenue (ATR): N1,500,000.00\n"
     ]
    }
   ],
   "source": [
    "# Function to calculate an employees ATR based on work experience and age\n",
    "\n",
    "# Get user input\n",
    "experience = int(input(\"Enter years of experince: \"))\n",
    "age = int(input(\"Enter age: \"))\n",
    "\n",
    "def calculate_atr(experience, age):\n",
    "    if experience > 25 and age >= 55:\n",
    "        return \"N5,600,000.00\"\n",
    "    elif experience > 20 and age >= 45:\n",
    "        return \"N4,480,00.00\"\n",
    "    elif experience > 10 and age >= 35:\n",
    "        return \"N1,500,000.00\"\n",
    "    else: \n",
    "        return \"N550,000.00\"\n",
    "\n",
    "# Calculate and display ATR\n",
    "atr = calculate_atr(experience, age)\n",
    "print(f\"Anual Tax Revenue (ATR): {atr}\")"
   ]
  },
  {
   "cell_type": "code",
   "execution_count": null,
   "id": "809b0094-4c8b-4bba-8b36-7941be1679ce",
   "metadata": {},
   "outputs": [],
   "source": []
  }
 ],
 "metadata": {
  "kernelspec": {
   "display_name": "Python [conda env:base] *",
   "language": "python",
   "name": "conda-base-py"
  },
  "language_info": {
   "codemirror_mode": {
    "name": "ipython",
    "version": 3
   },
   "file_extension": ".py",
   "mimetype": "text/x-python",
   "name": "python",
   "nbconvert_exporter": "python",
   "pygments_lexer": "ipython3",
   "version": "3.12.7"
  }
 },
 "nbformat": 4,
 "nbformat_minor": 5
}
