{
 "cells": [
  {
   "cell_type": "code",
   "execution_count": 1,
   "id": "b69b0883-553a-460d-9202-384fb93ccd67",
   "metadata": {},
   "outputs": [
    {
     "name": "stdout",
     "output_type": "stream",
     "text": [
      "My string\n"
     ]
    }
   ],
   "source": [
    "def printme( str):\n",
    "    #This prints a passed string \n",
    "    print (str)\n",
    "    return \n",
    "printme( str = \"My string\")"
   ]
  },
  {
   "cell_type": "code",
   "execution_count": null,
   "id": "89f7563b-f34f-4c8c-8df6-0358d7802784",
   "metadata": {},
   "outputs": [],
   "source": []
  }
 ],
 "metadata": {
  "kernelspec": {
   "display_name": "Python [conda env:base] *",
   "language": "python",
   "name": "conda-base-py"
  },
  "language_info": {
   "codemirror_mode": {
    "name": "ipython",
    "version": 3
   },
   "file_extension": ".py",
   "mimetype": "text/x-python",
   "name": "python",
   "nbconvert_exporter": "python",
   "pygments_lexer": "ipython3",
   "version": "3.12.7"
  }
 },
 "nbformat": 4,
 "nbformat_minor": 5
}
