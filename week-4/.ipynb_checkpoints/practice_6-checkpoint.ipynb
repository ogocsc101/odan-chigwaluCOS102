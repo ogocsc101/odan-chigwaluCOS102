{
 "cells": [
  {
   "cell_type": "code",
   "execution_count": 3,
   "id": "8f69505d-0589-480e-b57f-1bcca05071a5",
   "metadata": {},
   "outputs": [
    {
     "name": "stdout",
     "output_type": "stream",
     "text": [
      "Name:  miki\n",
      "Age:  50\n"
     ]
    }
   ],
   "source": [
    "def printinfo( name, age):\n",
    "    #Test function \n",
    "    print(\"Name: \", name)\n",
    "    print(\"Age: \", age)\n",
    "    return\n",
    "    \n",
    "printinfo( age=50, name=\"miki\")\n"
   ]
  },
  {
   "cell_type": "code",
   "execution_count": null,
   "id": "b826326e-e582-48d6-8345-81a0b9e0661a",
   "metadata": {},
   "outputs": [],
   "source": []
  }
 ],
 "metadata": {
  "kernelspec": {
   "display_name": "Python [conda env:base] *",
   "language": "python",
   "name": "conda-base-py"
  },
  "language_info": {
   "codemirror_mode": {
    "name": "ipython",
    "version": 3
   },
   "file_extension": ".py",
   "mimetype": "text/x-python",
   "name": "python",
   "nbconvert_exporter": "python",
   "pygments_lexer": "ipython3",
   "version": "3.12.7"
  }
 },
 "nbformat": 4,
 "nbformat_minor": 5
}
