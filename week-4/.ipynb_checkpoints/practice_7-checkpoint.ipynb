{
 "cells": [
  {
   "cell_type": "code",
   "execution_count": 1,
   "id": "e1e7a568-a91a-4914-8958-850b1fc105d8",
   "metadata": {},
   "outputs": [
    {
     "name": "stdout",
     "output_type": "stream",
     "text": [
      "Name:  miki\n",
      "Age:  50\n",
      "Name:  miki\n",
      "Age:  35\n"
     ]
    }
   ],
   "source": [
    "def printinfo( name, age = 35):\n",
    "    #Test function \n",
    "    print (\"Name: \", name)\n",
    "    print (\"Age: \", age)\n",
    "    return\n",
    "\n",
    "printinfo( age=50, name=\"miki\")\n",
    "printinfo( name=\"miki\")"
   ]
  },
  {
   "cell_type": "code",
   "execution_count": null,
   "id": "76ffd46a-0af8-40ed-b49e-862a27503841",
   "metadata": {},
   "outputs": [],
   "source": []
  }
 ],
 "metadata": {
  "kernelspec": {
   "display_name": "Python [conda env:base] *",
   "language": "python",
   "name": "conda-base-py"
  },
  "language_info": {
   "codemirror_mode": {
    "name": "ipython",
    "version": 3
   },
   "file_extension": ".py",
   "mimetype": "text/x-python",
   "name": "python",
   "nbconvert_exporter": "python",
   "pygments_lexer": "ipython3",
   "version": "3.12.7"
  }
 },
 "nbformat": 4,
 "nbformat_minor": 5
}
