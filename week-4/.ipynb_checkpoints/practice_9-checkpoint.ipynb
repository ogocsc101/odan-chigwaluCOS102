{
 "cells": [
  {
   "cell_type": "code",
   "execution_count": 3,
   "id": "d17bb720-18e8-4b08-9c0c-9a8e6faf1994",
   "metadata": {},
   "outputs": [
    {
     "name": "stdout",
     "output_type": "stream",
     "text": [
      "Inside the function local total :  30\n",
      "Outside the function global total : 50\n"
     ]
    }
   ],
   "source": [
    "total = 50\n",
    "#This is global variable \n",
    "def sum( arg1, arg2 ):\n",
    "    #Add both the parameters\n",
    "    total = arg1 + arg2\n",
    "    print(\"Inside the function local total : \", total)\n",
    "    return total\n",
    "\n",
    "# Now you can call sum function\n",
    "sum( 10, 20)\n",
    "print (\"Outside the function global total :\", total)"
   ]
  },
  {
   "cell_type": "code",
   "execution_count": null,
   "id": "6d600fe5-fd18-4f38-b1ab-48758d7bca83",
   "metadata": {},
   "outputs": [],
   "source": []
  }
 ],
 "metadata": {
  "kernelspec": {
   "display_name": "Python [conda env:base] *",
   "language": "python",
   "name": "conda-base-py"
  },
  "language_info": {
   "codemirror_mode": {
    "name": "ipython",
    "version": 3
   },
   "file_extension": ".py",
   "mimetype": "text/x-python",
   "name": "python",
   "nbconvert_exporter": "python",
   "pygments_lexer": "ipython3",
   "version": "3.12.7"
  }
 },
 "nbformat": 4,
 "nbformat_minor": 5
}
