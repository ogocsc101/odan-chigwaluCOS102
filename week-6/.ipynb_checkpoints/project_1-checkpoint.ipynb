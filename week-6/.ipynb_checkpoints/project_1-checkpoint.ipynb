{
 "cells": [
  {
   "cell_type": "code",
   "execution_count": null,
   "id": "89498994-6956-49d5-9c73-c41ed835b226",
   "metadata": {},
   "outputs": [],
   "source": [
    "import tkinter as tk\n",
    "from tkinter import messagebox\n",
    "\n",
    "# based on the location and weight of the delivery \n",
    "def calculate_charge():\n",
    "    location = location_var.get()\n",
    "    try:\n",
    "        weight = float(weight_entry.get())\n",
    "    except ValueError:\n",
    "        messagebox.showerror(\"Invaliud Input\", \"Please enter a valid weight\")\n",
    "        return \n",
    "\n",
    "    if location == \"Ibeju-Lekki\":\n",
    "        if weight >=10:\n",
    "            charge = 5000\n",
    "        else:\n",
    "            charge = 3500\n",
    "    elif location == \"Epe\":\n",
    "        if weight >=10:\n",
    "            charge = 10000\n",
    "        else:\n",
    "            charge = 5000\n",
    "    else:\n",
    "        charge = \"Invalid location\"\n",
    "\n",
    "    result_label.config(text=f\"Delivery charge: N{charge}\")\n",
    "\n",
    "# Graphic User Interface set up \n",
    "root = tk.Tk()\n",
    "root.title(\"Simi Delivery Service Calculator\")\n",
    "\n",
    "tk.Label(root, text =\"Enter Package Weight (kg):\").grid(row=0, column=0, pady=5)\n",
    "weight_entry = tk.Entry(root)\n",
    "weight_entry.grid(row=0, column=1)\n",
    "\n",
    "tk.Label(root, text=\"Select your Location:\").grid(row=1, column=0, pady=5)\n",
    "location_var = tk.StringVar()\n",
    "location_var.set(\"Ibeju-Lekki\")\n",
    "location_menu = tk.OptionMenu(root, location_var, \"Ibeju-Lekki\", \"Epe\")\n",
    "location_menu.grid(row=1, column=1)\n",
    "\n",
    "tk.Button(root, text=\"Calculate Charge\", command=calculate_charge).grid(row=2, columnspan=2, pady=10)\n",
    "result_label = tk.Label(root, text=\"Delivery charge: N0\")\n",
    "result_label.grid(row=3, columnspan=2)\n",
    "\n",
    "root.mainloop()\n",
    "\n",
    "    \n",
    "    "
   ]
  },
  {
   "cell_type": "code",
   "execution_count": null,
   "id": "b447f5f7-6c93-47e7-9636-941f812da4de",
   "metadata": {},
   "outputs": [],
   "source": []
  }
 ],
 "metadata": {
  "kernelspec": {
   "display_name": "Python [conda env:base] *",
   "language": "python",
   "name": "conda-base-py"
  },
  "language_info": {
   "codemirror_mode": {
    "name": "ipython",
    "version": 3
   },
   "file_extension": ".py",
   "mimetype": "text/x-python",
   "name": "python",
   "nbconvert_exporter": "python",
   "pygments_lexer": "ipython3",
   "version": "3.12.7"
  }
 },
 "nbformat": 4,
 "nbformat_minor": 5
}
