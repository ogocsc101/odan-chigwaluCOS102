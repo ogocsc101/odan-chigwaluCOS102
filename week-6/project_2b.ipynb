{
 "cells": [
  {
   "cell_type": "code",
   "execution_count": null,
   "id": "ef58106a-e617-4441-a963-608902a7381b",
   "metadata": {},
   "outputs": [],
   "source": [
    "admitted = []\n",
    "not_admitted = []\n",
    "\n",
    "def check_admission(name, dept, jamb_score, credits, interview_passed):\n",
    "    if dept == \"Computer Science\":\n",
    "        if jamb_score >= 250 and credits >= 5 and interview_passed:\n",
    "            admitted.append(name)\n",
    "            return f\"{name} has been admitted into Computer Science.\"\n",
    "        else:\n",
    "            not_admitted.append(name)\n",
    "            return f\"{name} has not been admitted into Computer Science.\"\n",
    "    elif dept == \"Mass Communication\":\n",
    "        if jamb_score >= 230 and credits >= 5 and interview_passed:\n",
    "            admitted.append(name)\n",
    "            return f\"{name} has been admitted into Mass Communication.\"\n",
    "        else:\n",
    "            not_admitted.append(name)\n",
    "            return f\"{name} has not been admitted into Mass Communication.\"\n",
    "    else:\n",
    "        return \"Invalid department.\"\n",
    "\n",
    "# Example usage\n",
    "print(check_admission(\"Ade\", \"Computer Science\", 260, 5, True))\n",
    "print(check_admission(\"Bola\", \"Mass Communication\", 225, 5, True))\n",
    "print(\"Admitted:\", admitted)\n",
    "print(\"Not Admitted:\", not_admitted)\n"
   ]
  }
 ],
 "metadata": {
  "kernelspec": {
   "display_name": "Python [conda env:base] *",
   "language": "python",
   "name": "conda-base-py"
  },
  "language_info": {
   "codemirror_mode": {
    "name": "ipython",
    "version": 3
   },
   "file_extension": ".py",
   "mimetype": "text/x-python",
   "name": "python",
   "nbconvert_exporter": "python",
   "pygments_lexer": "ipython3",
   "version": "3.12.7"
  }
 },
 "nbformat": 4,
 "nbformat_minor": 5
}
