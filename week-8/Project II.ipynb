{
 "cells": [
  {
   "cell_type": "code",
   "execution_count": 3,
   "id": "df4e9937-78f5-4e3a-b873-81a16d597141",
   "metadata": {},
   "outputs": [],
   "source": [
    "import pandas as pd\n",
    "\n",
    "# Define the product data\n",
    "data = {\n",
    "    \"Segment\": [\n",
    "        \"Refreshment Beverages\", \"Refreshment Beverages\",\n",
    "        \"Confectionery\", \"Confectionery\", \"Confectionery\",\n",
    "        \"Intermediate Cocoa Products\", \"Intermediate Cocoa Products\",\n",
    "        \"Intermediate Cocoa Products\", \"Intermediate Cocoa Products\"\n",
    "    ],\n",
    "    \"Brand\": [\n",
    "        \"CADBURY BOURNVITA\", \"CADBURY 3-in-1 HOT CHOCOLATE\",\n",
    "        \"TOMTOM CLASSIC\", \"TOMTOM STRAWBERRY\", \"BUTTERMINT\",\n",
    "        \"COCOA POWDER\", \"COCOA BUTTER\", \"COCOA LIQUOR\", \"COCOA CAKE\"\n",
    "    ],\n",
    "    \"Product Type\": [\n",
    "        \"Local Sale\", \"Local Sale\",\n",
    "        \"Local Sale\", \"Local Sale\", \"Local Sale\",\n",
    "        \"Local Sale\", \"Export\", \"Export\", \"Export\"\n",
    "    ]\n",
    "}\n",
    "\n",
    "# Create a DataFrame\n",
    "df = pd.DataFrame(data)\n",
    "\n",
    "# Save the DataFrame to a CSv file\n",
    "df.to_csv(\"cadbury_market.csv\")\n"
   ]
  },
  {
   "cell_type": "code",
   "execution_count": null,
   "id": "c5bc262e-0e26-439c-b07d-c08e89d44c8b",
   "metadata": {},
   "outputs": [],
   "source": []
  }
 ],
 "metadata": {
  "kernelspec": {
   "display_name": "Python [conda env:base] *",
   "language": "python",
   "name": "conda-base-py"
  },
  "language_info": {
   "codemirror_mode": {
    "name": "ipython",
    "version": 3
   },
   "file_extension": ".py",
   "mimetype": "text/x-python",
   "name": "python",
   "nbconvert_exporter": "python",
   "pygments_lexer": "ipython3",
   "version": "3.12.7"
  }
 },
 "nbformat": 4,
 "nbformat_minor": 5
}
