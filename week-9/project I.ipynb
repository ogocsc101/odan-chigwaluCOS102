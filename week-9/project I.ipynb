{
 "cells": [
  {
   "cell_type": "code",
   "execution_count": 23,
   "id": "a7d365af-218e-4c8c-b7f7-14a5fa8d9bda",
   "metadata": {},
   "outputs": [
    {
     "name": "stdin",
     "output_type": "stream",
     "text": [
      "Enter your full name:  Kosi Korso\n"
     ]
    },
    {
     "name": "stdout",
     "output_type": "stream",
     "text": [
      "Attendance taken for Kosi Korso.\n",
      "Kosi Korso, your assigned task is 'Delivering Items'.\n"
     ]
    }
   ],
   "source": [
    "# A program to check elegibility of workers\n",
    "# assign tasks\n",
    "# confirm attendance\n",
    "\n",
    "import random\n",
    "\n",
    "# Class for employee\n",
    "class Employee:\n",
    "    def __init__(self, name):\n",
    "        self.name = name\n",
    "        self.employees = [\n",
    "            \"Mary Evans\", \"Eyo Ishan\", \"Durojaiye Dare\", \"Adams Ali\", \"Andrew Ugwu\",\n",
    "            \"Stella Mankinde\", \"Jane Akibo\", \"Ago James\", \"Michell Taiwo\", \"Abraham Jones\",\n",
    "            \"Nicole Anide\", \"Kosi Korso\", \"Adele Martins\", \"Emmanuel Ojo\", \"Ajayi Fatima\"\n",
    "        ]\n",
    "        self.tasks = [\n",
    "            \"Loading\", \"Transporting\", \"Reveiwing Orders\", \"Customer Service\", \"Delivering Items\"\n",
    "        ]\n",
    "\n",
    "    def check_employee(self):\n",
    "        #Check if the name exists in the employee list\n",
    "        return self.name in self.employees\n",
    "\n",
    "    def take_attendance(self):\n",
    "        #Mark the employee as present\n",
    "        print(f\"Attendance taken for {self.name}.\")\n",
    "\n",
    "    def assign_task(self):\n",
    "        #Assign a random task to the employee\n",
    "        task = random.choice(self.tasks)\n",
    "        print(f\"{self.name}, your assigned task is '{task}'.\")\n",
    "\n",
    "    def refuse_access(self):\n",
    "        print(f\"Access denied. {self.name} is not registered as an employee.\")\n",
    "\n",
    "# back to main\n",
    "def main():\n",
    "    user_name = input(\"Enter your full name: \")\n",
    "\n",
    "    # Create an instance of Employee\n",
    "    user = Employee(user_name)\n",
    "\n",
    "    # conditions\n",
    "    if user.check_employee():\n",
    "        user.take_attendance()\n",
    "        user.assign_task()\n",
    "    else:\n",
    "        user.refuse_access()\n",
    "\n",
    "# Run the program\n",
    "if __name__ == \"__main__\":\n",
    "    main()\n"
   ]
  },
  {
   "cell_type": "code",
   "execution_count": null,
   "id": "92c58b50-c9ff-42f7-b10e-3815c67286f4",
   "metadata": {},
   "outputs": [],
   "source": []
  }
 ],
 "metadata": {
  "kernelspec": {
   "display_name": "Python [conda env:base] *",
   "language": "python",
   "name": "conda-base-py"
  },
  "language_info": {
   "codemirror_mode": {
    "name": "ipython",
    "version": 3
   },
   "file_extension": ".py",
   "mimetype": "text/x-python",
   "name": "python",
   "nbconvert_exporter": "python",
   "pygments_lexer": "ipython3",
   "version": "3.12.7"
  }
 },
 "nbformat": 4,
 "nbformat_minor": 5
}
